{
 "cells": [
  {
   "cell_type": "code",
   "execution_count": 3,
   "metadata": {
    "collapsed": true
   },
   "outputs": [],
   "source": [
    "import numpy as np\n",
    "from glob import glob"
   ]
  },
  {
   "cell_type": "code",
   "execution_count": 2,
   "metadata": {
    "collapsed": true
   },
   "outputs": [],
   "source": [
    "fclouds = ['M3','M4','M8']"
   ]
  },
  {
   "cell_type": "code",
   "execution_count": 6,
   "metadata": {},
   "outputs": [
    {
     "name": "stdout",
     "output_type": "stream",
     "text": [
      "zeta_fitted_M3.out\n",
      "zeta_fitted_M4.out\n",
      "zeta_fitted_M8.out\n"
     ]
    }
   ],
   "source": [
    "p,zeta1,zeta2,zeta3 = np.array([]),np.array([]),np.array([]),np.array([])\n",
    "for icloud in fclouds:\n",
    "    ifile = glob(('zeta_fitted_%s.out' % icloud))[0]\n",
    "    print(ifile)\n",
    "    tmpp,tmp1,tmp2,tmp3 = np.loadtxt(ifile,skiprows=1,usecols=(0,1,2,3),unpack=True)\n",
    "    p = np.append(p,tmpp)\n",
    "    zeta1 = np.append(zeta1,tmp1)\n",
    "    zeta2 = np.append(zeta2,tmp2)\n",
    "    zeta3 = np.append(zeta3,tmp3)"
   ]
  },
  {
   "cell_type": "code",
   "execution_count": 17,
   "metadata": {},
   "outputs": [
    {
     "name": "stdout",
     "output_type": "stream",
     "text": [
      "(array([ 1. ,  1.1,  1.2,  1.3,  1.4,  1.5,  1.6,  1.7,  1.8,  1.9,  2. ,\n",
      "        2.1,  2.2,  2.3,  2.4,  2.5,  2.6,  2.7,  2.8,  2.9,  3. ,  3.1,\n",
      "        3.2,  3.3,  3.4,  3.5,  3.6,  3.7,  3.8,  3.9]), array([ 0. ,  0.1,  0.2,  0.3,  0.4,  0.5,  0.6,  0.7,  0.8,  0.9,  1. ,\n",
      "        1.1,  1.2,  1.3,  1.4,  1.5,  1.6,  1.7,  1.8,  1.9,  2. ,  2.1,\n",
      "        2.2,  2.3,  2.4,  2.5,  2.6,  2.7,  2.8,  2.9,  3. ,  3.1,  3.2,\n",
      "        3.3,  3.4,  3.5,  3.6,  3.7,  3.8,  3.9]))\n",
      "(1.0, 3.8999999999999999)\n",
      "(0.0, 3.8999999999999999)\n"
     ]
    }
   ],
   "source": [
    "# p = 1\n",
    "zmin = 0.241\n",
    "ezmin = 0\n",
    "zmax = 0.5\n",
    "ezmax = 0.3\n",
    "p1 = np.sort(np.unique(p[np.where((zeta1>=zmin) & (zeta1<=zmax))]))\n",
    "ep1 = np.sort(np.unique(p[np.where((zeta1>=zmin-ezmin) & (zeta1<=zmax+ezmax))]))\n",
    "print(p1,ep1)\n",
    "print(np.min(p1),np.max(p1))\n",
    "print(np.min(ep1),np.max(ep1))"
   ]
  },
  {
   "cell_type": "code",
   "execution_count": 18,
   "metadata": {},
   "outputs": [
    {
     "name": "stdout",
     "output_type": "stream",
     "text": [
      "(array([ 1.1,  1.2,  1.5,  1.8,  2. ,  2.1,  2.2,  2.3,  2.4,  2.5,  2.6,\n",
      "        2.7,  2.8,  2.9,  3. ,  3.1]), array([ 0. ,  0.1,  0.2,  0.3,  0.4,  0.5,  0.6,  0.7,  0.8,  0.9,  1. ,\n",
      "        1.1,  1.2,  1.3,  1.4,  1.5,  1.6,  1.7,  1.8,  1.9,  2. ,  2.1,\n",
      "        2.2,  2.3,  2.4,  2.5,  2.6,  2.7,  2.8,  2.9,  3. ,  3.1]))\n",
      "(1.1000000000000001, 3.1000000000000001)\n",
      "(0.0, 3.1000000000000001)\n"
     ]
    }
   ],
   "source": [
    "# p = 2\n",
    "zmin = 0.76\n",
    "ezmin = 0\n",
    "zmax = 0.86\n",
    "ezmax = 0.3\n",
    "p2 = np.sort(np.unique(p[np.where((zeta2>=zmin) & (zeta2<=zmax))]))\n",
    "ep2 = np.sort(np.unique(p[np.where((zeta2>=zmin-ezmin) & (zeta2<=zmax+ezmax))]))\n",
    "print(p2,ep2)\n",
    "print(np.min(p2),np.max(p2))\n",
    "print(np.min(ep2),np.max(ep2))"
   ]
  },
  {
   "cell_type": "code",
   "execution_count": 19,
   "metadata": {},
   "outputs": [
    {
     "name": "stdout",
     "output_type": "stream",
     "text": [
      "(array([ 1.1,  2.2,  2.3,  2.4,  2.5,  2.6,  2.7,  2.8,  3. ]), array([ 1.1,  2.2,  2.3,  2.4,  2.5,  2.6,  2.7,  2.8,  3. ]))\n",
      "(1.1000000000000001, 3.0)\n",
      "(1.1000000000000001, 3.0)\n"
     ]
    }
   ],
   "source": [
    "# p = 3\n",
    "zmin = 1.1\n",
    "ezmin = 0\n",
    "zmax = 1.18\n",
    "ezmax = 0\n",
    "p3 = np.sort(np.unique(p[np.where((zeta3>=zmin) & (zeta3<=zmax))]))\n",
    "ep3 = np.sort(np.unique(p[np.where((zeta3>=zmin-ezmin) & (zeta3<=zmax+ezmax))]))\n",
    "print(p3,ep3)\n",
    "print(np.min(p3),np.max(p3))\n",
    "print(np.min(ep3),np.max(ep3))"
   ]
  },
  {
   "cell_type": "code",
   "execution_count": null,
   "metadata": {
    "collapsed": true
   },
   "outputs": [],
   "source": []
  }
 ],
 "metadata": {
  "kernelspec": {
   "display_name": "Python 2",
   "language": "python",
   "name": "python2"
  },
  "language_info": {
   "codemirror_mode": {
    "name": "ipython",
    "version": 2
   },
   "file_extension": ".py",
   "mimetype": "text/x-python",
   "name": "python",
   "nbconvert_exporter": "python",
   "pygments_lexer": "ipython2",
   "version": "2.7.14"
  }
 },
 "nbformat": 4,
 "nbformat_minor": 2
}
